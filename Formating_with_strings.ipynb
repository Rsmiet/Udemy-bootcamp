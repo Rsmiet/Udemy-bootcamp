{
  "nbformat": 4,
  "nbformat_minor": 0,
  "metadata": {
    "colab": {
      "provenance": [],
      "authorship_tag": "ABX9TyPl9qA+cnqSOWqB2VIz09aw"
    },
    "kernelspec": {
      "name": "python3",
      "display_name": "Python 3"
    },
    "language_info": {
      "name": "python"
    }
  },
  "cells": [
    {
      "cell_type": "code",
      "execution_count": 1,
      "metadata": {
        "colab": {
          "base_uri": "https://localhost:8080/"
        },
        "id": "3PzvWaCoK_uO",
        "outputId": "100c58e9-69d9-465f-b94b-1c2c4a7eefd0"
      },
      "outputs": [
        {
          "output_type": "stream",
          "name": "stdout",
          "text": [
            "This is a stringINSERTED\n"
          ]
        }
      ],
      "source": [
        "print(\"This is a string{}\".format(\"INSERTED\"))"
      ]
    },
    {
      "cell_type": "code",
      "source": [
        "print(\"The {2} {1} {0}\".format(\"fox\", \"brown\", \"quick\"))"
      ],
      "metadata": {
        "colab": {
          "base_uri": "https://localhost:8080/"
        },
        "id": "SecfZSCyN2Om",
        "outputId": "e4fc6afe-9c74-46c6-c4af-6a3f1708fae2"
      },
      "execution_count": 2,
      "outputs": [
        {
          "output_type": "stream",
          "name": "stdout",
          "text": [
            "The quick brown fox\n"
          ]
        }
      ]
    },
    {
      "cell_type": "code",
      "source": [
        "print(\"The {q} {b} {f}\".format(f=\"fox\", b=\"brown\", q=\"quick\"))"
      ],
      "metadata": {
        "colab": {
          "base_uri": "https://localhost:8080/"
        },
        "id": "NFNCmo4lOdq0",
        "outputId": "ecf812ec-e6f0-416c-86e2-fb86627798d4"
      },
      "execution_count": 3,
      "outputs": [
        {
          "output_type": "stream",
          "name": "stdout",
          "text": [
            "The quick brown fox\n"
          ]
        }
      ]
    },
    {
      "cell_type": "code",
      "source": [
        "result = 100/777"
      ],
      "metadata": {
        "id": "aiojwtDTc3ps"
      },
      "execution_count": 4,
      "outputs": []
    },
    {
      "cell_type": "code",
      "source": [
        "print(\"The result was {r:0.3f}\".format(r=result))"
      ],
      "metadata": {
        "colab": {
          "base_uri": "https://localhost:8080/"
        },
        "id": "TkAfRg_ddUeU",
        "outputId": "3abf3b66-384d-4ec0-a9d8-5aff59339dc0"
      },
      "execution_count": 8,
      "outputs": [
        {
          "output_type": "stream",
          "name": "stdout",
          "text": [
            "The result was 0.129\n"
          ]
        }
      ]
    },
    {
      "cell_type": "code",
      "source": [
        "name = \"Robin\""
      ],
      "metadata": {
        "id": "OBXpRhE6vAtk"
      },
      "execution_count": 9,
      "outputs": []
    },
    {
      "cell_type": "code",
      "source": [
        "print(f\"Hello my name is {name}\")"
      ],
      "metadata": {
        "colab": {
          "base_uri": "https://localhost:8080/"
        },
        "id": "AxMYdNm7vEa2",
        "outputId": "57260188-547f-495b-a6ec-940382e923b6"
      },
      "execution_count": 11,
      "outputs": [
        {
          "output_type": "stream",
          "name": "stdout",
          "text": [
            "Hello my name is Robin\n"
          ]
        }
      ]
    },
    {
      "cell_type": "code",
      "source": [
        "name = \"Robin\"\n",
        "age = 35"
      ],
      "metadata": {
        "id": "UCjzmKq2vcf-"
      },
      "execution_count": 12,
      "outputs": []
    },
    {
      "cell_type": "code",
      "source": [
        "print(f\"{name} is {age} years old\")"
      ],
      "metadata": {
        "colab": {
          "base_uri": "https://localhost:8080/"
        },
        "id": "mx6g01_SvioO",
        "outputId": "cb42a244-4aaf-40b0-ddc9-24a210d9ee95"
      },
      "execution_count": 13,
      "outputs": [
        {
          "output_type": "stream",
          "name": "stdout",
          "text": [
            "Robin is 35 years old\n"
          ]
        }
      ]
    }
  ]
}
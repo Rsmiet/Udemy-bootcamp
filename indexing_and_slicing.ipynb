{
  "nbformat": 4,
  "nbformat_minor": 0,
  "metadata": {
    "colab": {
      "provenance": [],
      "authorship_tag": "ABX9TyO1q1EN/Cy0Ku9TI2GQLB6+"
    },
    "kernelspec": {
      "name": "python3",
      "display_name": "Python 3"
    },
    "language_info": {
      "name": "python"
    }
  },
  "cells": [
    {
      "cell_type": "code",
      "execution_count": 10,
      "metadata": {
        "id": "Ya5o4S-yZnDA"
      },
      "outputs": [],
      "source": [
        "my_string = \"Hallo ik ben een string\""
      ]
    },
    {
      "cell_type": "code",
      "source": [
        "my_string[4]"
      ],
      "metadata": {
        "colab": {
          "base_uri": "https://localhost:8080/",
          "height": 35
        },
        "id": "h8VyMVcNqvPb",
        "outputId": "232bfed6-25b5-4624-e78d-ae9948e28115"
      },
      "execution_count": 13,
      "outputs": [
        {
          "output_type": "execute_result",
          "data": {
            "text/plain": [
              "'o'"
            ],
            "application/vnd.google.colaboratory.intrinsic+json": {
              "type": "string"
            }
          },
          "metadata": {},
          "execution_count": 13
        }
      ]
    }
  ]
}